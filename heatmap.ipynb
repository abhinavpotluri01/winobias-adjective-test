{
 "cells": [
  {
   "cell_type": "code",
   "execution_count": 40,
   "metadata": {},
   "outputs": [],
   "source": [
    "import pandas as pd\n",
    "import plotly.express as px\n",
    "import plotly.graph_objects as go\n",
    "from plotly.subplots import make_subplots"
   ]
  },
  {
   "cell_type": "code",
   "execution_count": 10,
   "metadata": {},
   "outputs": [],
   "source": [
    "df_tri1 = pd.read_csv(\"Files/output/output_heat_tri1.csv\")\n",
    "df_tri2 = pd.read_csv(\"Files/output/output_heat_tri2.csv\")\n",
    "df_tri3 = pd.read_csv(\"Files/output/output_heat_tri3.csv\")\n",
    "df_tri4 = pd.read_csv(\"Files/output/output_heat_tri4.csv\")\n",
    "df_tri5 = pd.read_csv(\"Files/output/output_heat_tri5.csv\")"
   ]
  },
  {
   "cell_type": "code",
   "execution_count": 26,
   "metadata": {},
   "outputs": [],
   "source": [
    "prompt_types = []\n",
    "correct_counts = []\n",
    "incorrect_counts = []\n",
    "unsure_counts = []\n",
    "other_counts = []\n",
    "\n",
    "for column in df_tri1.columns:\n",
    "    results_1 = df_tri1[column].value_counts()\n",
    "    results_2 = df_tri2[column].value_counts()\n",
    "    results_3 = df_tri3[column].value_counts()\n",
    "    results_4 = df_tri4[column].value_counts()\n",
    "    results_5 = df_tri5[column].value_counts()\n",
    "\n",
    "    prompt_types.append(column[2:])\n",
    "    correct_counts.append(results_1[1]+results_2[1]+results_3[1]+results_4[1]+results_5[1])\n",
    "    incorrect_counts.append(results_1[2]+results_2[2]+results_3[2]+results_4[2]+results_5[2])\n",
    "    unsure_counts.append(results_1[3]+results_2[3]+results_3[3]+results_4[3]+results_5[3])\n",
    "    other_counts.append(results_1[4]+results_2[4]+results_3[4]+results_4[4]+results_5[4])"
   ]
  },
  {
   "cell_type": "code",
   "execution_count": 27,
   "metadata": {},
   "outputs": [
    {
     "data": {
      "text/html": [
       "<div>\n",
       "<style scoped>\n",
       "    .dataframe tbody tr th:only-of-type {\n",
       "        vertical-align: middle;\n",
       "    }\n",
       "\n",
       "    .dataframe tbody tr th {\n",
       "        vertical-align: top;\n",
       "    }\n",
       "\n",
       "    .dataframe thead th {\n",
       "        text-align: right;\n",
       "    }\n",
       "</style>\n",
       "<table border=\"1\" class=\"dataframe\">\n",
       "  <thead>\n",
       "    <tr style=\"text-align: right;\">\n",
       "      <th></th>\n",
       "      <th>prompt_type</th>\n",
       "      <th>correct_count</th>\n",
       "      <th>incorrect_count</th>\n",
       "      <th>unsure_count</th>\n",
       "      <th>other_count</th>\n",
       "    </tr>\n",
       "  </thead>\n",
       "  <tbody>\n",
       "    <tr>\n",
       "      <th>0</th>\n",
       "      <td>Pro Base</td>\n",
       "      <td>0.867342</td>\n",
       "      <td>0.079494</td>\n",
       "      <td>0.029367</td>\n",
       "      <td>0.023797</td>\n",
       "    </tr>\n",
       "    <tr>\n",
       "      <th>1</th>\n",
       "      <td>Anti Base</td>\n",
       "      <td>0.581772</td>\n",
       "      <td>0.342278</td>\n",
       "      <td>0.052152</td>\n",
       "      <td>0.023797</td>\n",
       "    </tr>\n",
       "    <tr>\n",
       "      <th>2</th>\n",
       "      <td>Pro Arrog-Respo</td>\n",
       "      <td>0.843038</td>\n",
       "      <td>0.055190</td>\n",
       "      <td>0.060253</td>\n",
       "      <td>0.041519</td>\n",
       "    </tr>\n",
       "    <tr>\n",
       "      <th>3</th>\n",
       "      <td>Anti Arrog-Respo</td>\n",
       "      <td>0.419747</td>\n",
       "      <td>0.443544</td>\n",
       "      <td>0.087089</td>\n",
       "      <td>0.049620</td>\n",
       "    </tr>\n",
       "    <tr>\n",
       "      <th>4</th>\n",
       "      <td>Pro Brill-Busy</td>\n",
       "      <td>0.807089</td>\n",
       "      <td>0.087089</td>\n",
       "      <td>0.057215</td>\n",
       "      <td>0.048608</td>\n",
       "    </tr>\n",
       "    <tr>\n",
       "      <th>5</th>\n",
       "      <td>Anti Brill-Busy</td>\n",
       "      <td>0.522025</td>\n",
       "      <td>0.337215</td>\n",
       "      <td>0.087089</td>\n",
       "      <td>0.053671</td>\n",
       "    </tr>\n",
       "    <tr>\n",
       "      <th>6</th>\n",
       "      <td>Pro Dry-Bubbl</td>\n",
       "      <td>0.798481</td>\n",
       "      <td>0.052152</td>\n",
       "      <td>0.073924</td>\n",
       "      <td>0.075443</td>\n",
       "    </tr>\n",
       "    <tr>\n",
       "      <th>7</th>\n",
       "      <td>Anti Dry-Bubbl</td>\n",
       "      <td>0.370127</td>\n",
       "      <td>0.435949</td>\n",
       "      <td>0.123038</td>\n",
       "      <td>0.070886</td>\n",
       "    </tr>\n",
       "    <tr>\n",
       "      <th>8</th>\n",
       "      <td>Pro Funny-Stric</td>\n",
       "      <td>0.827848</td>\n",
       "      <td>0.071899</td>\n",
       "      <td>0.053671</td>\n",
       "      <td>0.046582</td>\n",
       "    </tr>\n",
       "    <tr>\n",
       "      <th>9</th>\n",
       "      <td>Anti Funny-Stric</td>\n",
       "      <td>0.446076</td>\n",
       "      <td>0.401519</td>\n",
       "      <td>0.088608</td>\n",
       "      <td>0.063797</td>\n",
       "    </tr>\n",
       "    <tr>\n",
       "      <th>10</th>\n",
       "      <td>Pro Hard-Soft</td>\n",
       "      <td>0.752911</td>\n",
       "      <td>0.063291</td>\n",
       "      <td>0.094684</td>\n",
       "      <td>0.089114</td>\n",
       "    </tr>\n",
       "    <tr>\n",
       "      <th>11</th>\n",
       "      <td>Anti Hard-Soft</td>\n",
       "      <td>0.419241</td>\n",
       "      <td>0.360000</td>\n",
       "      <td>0.129114</td>\n",
       "      <td>0.091646</td>\n",
       "    </tr>\n",
       "    <tr>\n",
       "      <th>12</th>\n",
       "      <td>Pro Intel-Sweet</td>\n",
       "      <td>0.809114</td>\n",
       "      <td>0.062278</td>\n",
       "      <td>0.068354</td>\n",
       "      <td>0.060253</td>\n",
       "    </tr>\n",
       "    <tr>\n",
       "      <th>13</th>\n",
       "      <td>Anti Intel-Sweet</td>\n",
       "      <td>0.408101</td>\n",
       "      <td>0.431392</td>\n",
       "      <td>0.089114</td>\n",
       "      <td>0.071392</td>\n",
       "    </tr>\n",
       "    <tr>\n",
       "      <th>14</th>\n",
       "      <td>Pro Knowl-Helpf</td>\n",
       "      <td>0.834430</td>\n",
       "      <td>0.075949</td>\n",
       "      <td>0.046582</td>\n",
       "      <td>0.043038</td>\n",
       "    </tr>\n",
       "    <tr>\n",
       "      <th>15</th>\n",
       "      <td>Anti Knowl-Helpf</td>\n",
       "      <td>0.526076</td>\n",
       "      <td>0.343291</td>\n",
       "      <td>0.076456</td>\n",
       "      <td>0.054177</td>\n",
       "    </tr>\n",
       "    <tr>\n",
       "      <th>16</th>\n",
       "      <td>Pro Large-Littl</td>\n",
       "      <td>0.865823</td>\n",
       "      <td>0.061772</td>\n",
       "      <td>0.042532</td>\n",
       "      <td>0.029873</td>\n",
       "    </tr>\n",
       "    <tr>\n",
       "      <th>17</th>\n",
       "      <td>Anti Large-Littl</td>\n",
       "      <td>0.454177</td>\n",
       "      <td>0.453671</td>\n",
       "      <td>0.060253</td>\n",
       "      <td>0.031899</td>\n",
       "    </tr>\n",
       "    <tr>\n",
       "      <th>18</th>\n",
       "      <td>Pro Nothi-Blond</td>\n",
       "      <td>0.844051</td>\n",
       "      <td>0.053165</td>\n",
       "      <td>0.030886</td>\n",
       "      <td>0.071899</td>\n",
       "    </tr>\n",
       "    <tr>\n",
       "      <th>19</th>\n",
       "      <td>Anti Nothi-Blond</td>\n",
       "      <td>0.446582</td>\n",
       "      <td>0.389367</td>\n",
       "      <td>0.059747</td>\n",
       "      <td>0.104304</td>\n",
       "    </tr>\n",
       "    <tr>\n",
       "      <th>20</th>\n",
       "      <td>Pro Nothi-Mean</td>\n",
       "      <td>0.845063</td>\n",
       "      <td>0.098734</td>\n",
       "      <td>0.031392</td>\n",
       "      <td>0.024810</td>\n",
       "    </tr>\n",
       "    <tr>\n",
       "      <th>21</th>\n",
       "      <td>Anti Nothi-Mean</td>\n",
       "      <td>0.595443</td>\n",
       "      <td>0.326076</td>\n",
       "      <td>0.051139</td>\n",
       "      <td>0.027342</td>\n",
       "    </tr>\n",
       "    <tr>\n",
       "      <th>22</th>\n",
       "      <td>Pro Old-Nothi</td>\n",
       "      <td>0.811646</td>\n",
       "      <td>0.093671</td>\n",
       "      <td>0.045570</td>\n",
       "      <td>0.049114</td>\n",
       "    </tr>\n",
       "    <tr>\n",
       "      <th>23</th>\n",
       "      <td>Anti Old-Nothi</td>\n",
       "      <td>0.512911</td>\n",
       "      <td>0.370633</td>\n",
       "      <td>0.062785</td>\n",
       "      <td>0.053671</td>\n",
       "    </tr>\n",
       "    <tr>\n",
       "      <th>24</th>\n",
       "      <td>Pro Organ-Disor</td>\n",
       "      <td>0.824304</td>\n",
       "      <td>0.114937</td>\n",
       "      <td>0.025823</td>\n",
       "      <td>0.034937</td>\n",
       "    </tr>\n",
       "    <tr>\n",
       "      <th>25</th>\n",
       "      <td>Anti Organ-Disor</td>\n",
       "      <td>0.579747</td>\n",
       "      <td>0.350380</td>\n",
       "      <td>0.028354</td>\n",
       "      <td>0.041519</td>\n",
       "    </tr>\n",
       "    <tr>\n",
       "      <th>26</th>\n",
       "      <td>Pro Polit-Nothi</td>\n",
       "      <td>0.753924</td>\n",
       "      <td>0.122532</td>\n",
       "      <td>0.044557</td>\n",
       "      <td>0.078987</td>\n",
       "    </tr>\n",
       "    <tr>\n",
       "      <th>27</th>\n",
       "      <td>Anti Polit-Nothi</td>\n",
       "      <td>0.534177</td>\n",
       "      <td>0.336709</td>\n",
       "      <td>0.054684</td>\n",
       "      <td>0.074430</td>\n",
       "    </tr>\n",
       "    <tr>\n",
       "      <th>28</th>\n",
       "      <td>Pro Pract-Pleas</td>\n",
       "      <td>0.795949</td>\n",
       "      <td>0.065316</td>\n",
       "      <td>0.084557</td>\n",
       "      <td>0.054177</td>\n",
       "    </tr>\n",
       "    <tr>\n",
       "      <th>29</th>\n",
       "      <td>Anti Pract-Pleas</td>\n",
       "      <td>0.516456</td>\n",
       "      <td>0.313924</td>\n",
       "      <td>0.108354</td>\n",
       "      <td>0.061266</td>\n",
       "    </tr>\n",
       "    <tr>\n",
       "      <th>30</th>\n",
       "      <td>Pro Tough-Under</td>\n",
       "      <td>0.832405</td>\n",
       "      <td>0.068354</td>\n",
       "      <td>0.050633</td>\n",
       "      <td>0.048608</td>\n",
       "    </tr>\n",
       "    <tr>\n",
       "      <th>31</th>\n",
       "      <td>Anti Tough-Under</td>\n",
       "      <td>0.478987</td>\n",
       "      <td>0.385823</td>\n",
       "      <td>0.080000</td>\n",
       "      <td>0.055190</td>\n",
       "    </tr>\n",
       "  </tbody>\n",
       "</table>\n",
       "</div>"
      ],
      "text/plain": [
       "         prompt_type  correct_count  incorrect_count  unsure_count  \\\n",
       "0           Pro Base       0.867342         0.079494      0.029367   \n",
       "1          Anti Base       0.581772         0.342278      0.052152   \n",
       "2    Pro Arrog-Respo       0.843038         0.055190      0.060253   \n",
       "3   Anti Arrog-Respo       0.419747         0.443544      0.087089   \n",
       "4     Pro Brill-Busy       0.807089         0.087089      0.057215   \n",
       "5    Anti Brill-Busy       0.522025         0.337215      0.087089   \n",
       "6      Pro Dry-Bubbl       0.798481         0.052152      0.073924   \n",
       "7     Anti Dry-Bubbl       0.370127         0.435949      0.123038   \n",
       "8    Pro Funny-Stric       0.827848         0.071899      0.053671   \n",
       "9   Anti Funny-Stric       0.446076         0.401519      0.088608   \n",
       "10     Pro Hard-Soft       0.752911         0.063291      0.094684   \n",
       "11    Anti Hard-Soft       0.419241         0.360000      0.129114   \n",
       "12   Pro Intel-Sweet       0.809114         0.062278      0.068354   \n",
       "13  Anti Intel-Sweet       0.408101         0.431392      0.089114   \n",
       "14   Pro Knowl-Helpf       0.834430         0.075949      0.046582   \n",
       "15  Anti Knowl-Helpf       0.526076         0.343291      0.076456   \n",
       "16   Pro Large-Littl       0.865823         0.061772      0.042532   \n",
       "17  Anti Large-Littl       0.454177         0.453671      0.060253   \n",
       "18   Pro Nothi-Blond       0.844051         0.053165      0.030886   \n",
       "19  Anti Nothi-Blond       0.446582         0.389367      0.059747   \n",
       "20    Pro Nothi-Mean       0.845063         0.098734      0.031392   \n",
       "21   Anti Nothi-Mean       0.595443         0.326076      0.051139   \n",
       "22     Pro Old-Nothi       0.811646         0.093671      0.045570   \n",
       "23    Anti Old-Nothi       0.512911         0.370633      0.062785   \n",
       "24   Pro Organ-Disor       0.824304         0.114937      0.025823   \n",
       "25  Anti Organ-Disor       0.579747         0.350380      0.028354   \n",
       "26   Pro Polit-Nothi       0.753924         0.122532      0.044557   \n",
       "27  Anti Polit-Nothi       0.534177         0.336709      0.054684   \n",
       "28   Pro Pract-Pleas       0.795949         0.065316      0.084557   \n",
       "29  Anti Pract-Pleas       0.516456         0.313924      0.108354   \n",
       "30   Pro Tough-Under       0.832405         0.068354      0.050633   \n",
       "31  Anti Tough-Under       0.478987         0.385823      0.080000   \n",
       "\n",
       "    other_count  \n",
       "0      0.023797  \n",
       "1      0.023797  \n",
       "2      0.041519  \n",
       "3      0.049620  \n",
       "4      0.048608  \n",
       "5      0.053671  \n",
       "6      0.075443  \n",
       "7      0.070886  \n",
       "8      0.046582  \n",
       "9      0.063797  \n",
       "10     0.089114  \n",
       "11     0.091646  \n",
       "12     0.060253  \n",
       "13     0.071392  \n",
       "14     0.043038  \n",
       "15     0.054177  \n",
       "16     0.029873  \n",
       "17     0.031899  \n",
       "18     0.071899  \n",
       "19     0.104304  \n",
       "20     0.024810  \n",
       "21     0.027342  \n",
       "22     0.049114  \n",
       "23     0.053671  \n",
       "24     0.034937  \n",
       "25     0.041519  \n",
       "26     0.078987  \n",
       "27     0.074430  \n",
       "28     0.054177  \n",
       "29     0.061266  \n",
       "30     0.048608  \n",
       "31     0.055190  "
      ]
     },
     "execution_count": 27,
     "metadata": {},
     "output_type": "execute_result"
    }
   ],
   "source": [
    "df = pd.DataFrame({\n",
    "    \"prompt_type\": prompt_types, \n",
    "    \"correct_count\": correct_counts, \n",
    "    \"incorrect_count\": incorrect_counts, \n",
    "    \"unsure_count\": unsure_counts, \n",
    "    \"other_count\": other_counts\n",
    "    })\n",
    "df[[\"correct_count\", \"incorrect_count\", \"unsure_count\", \"other_count\"]] = df[[\"correct_count\", \"incorrect_count\", \"unsure_count\", \"other_count\"]].div(1975)\n",
    "df"
   ]
  },
  {
   "cell_type": "code",
   "execution_count": 81,
   "metadata": {},
   "outputs": [
    {
     "name": "stdout",
     "output_type": "stream",
     "text": [
      "This is the format of your plot grid:\n",
      "[ (1,1) x,y   ]  [ (1,2) x2,y2 ]\n",
      "\n"
     ]
    },
    {
     "data": {
      "application/vnd.plotly.v1+json": {
       "config": {
        "plotlyServerURL": "https://plot.ly"
       },
       "data": [
        {
         "colorscale": [
          [
           0,
           "rgb(254, 245, 244)"
          ],
          [
           0.09090909090909091,
           "rgb(222, 224, 210)"
          ],
          [
           0.18181818181818182,
           "rgb(189, 206, 181)"
          ],
          [
           0.2727272727272727,
           "rgb(153, 189, 156)"
          ],
          [
           0.36363636363636365,
           "rgb(110, 173, 138)"
          ],
          [
           0.45454545454545453,
           "rgb(65, 157, 129)"
          ],
          [
           0.5454545454545454,
           "rgb(25, 137, 125)"
          ],
          [
           0.6363636363636364,
           "rgb(18, 116, 117)"
          ],
          [
           0.7272727272727273,
           "rgb(25, 94, 106)"
          ],
          [
           0.8181818181818182,
           "rgb(28, 72, 93)"
          ],
          [
           0.9090909090909091,
           "rgb(25, 51, 80)"
          ],
          [
           1,
           "rgb(20, 29, 67)"
          ]
         ],
         "text": [
          [
           0.87,
           0.08,
           0.03,
           0.02
          ],
          [
           0.58,
           0.34,
           0.05,
           0.02
          ],
          [
           0.84,
           0.06,
           0.06,
           0.04
          ],
          [
           0.42,
           0.44,
           0.09,
           0.05
          ],
          [
           0.81,
           0.09,
           0.06,
           0.05
          ],
          [
           0.52,
           0.34,
           0.09,
           0.05
          ],
          [
           0.8,
           0.05,
           0.07,
           0.08
          ],
          [
           0.37,
           0.44,
           0.12,
           0.07
          ],
          [
           0.83,
           0.07,
           0.05,
           0.05
          ],
          [
           0.45,
           0.4,
           0.09,
           0.06
          ],
          [
           0.75,
           0.06,
           0.09,
           0.09
          ],
          [
           0.42,
           0.36,
           0.13,
           0.09
          ],
          [
           0.81,
           0.06,
           0.07,
           0.06
          ],
          [
           0.41,
           0.43,
           0.09,
           0.07
          ],
          [
           0.83,
           0.08,
           0.05,
           0.04
          ],
          [
           0.53,
           0.34,
           0.08,
           0.05
          ]
         ],
         "texttemplate": "%{text}",
         "type": "heatmap",
         "x": [
          "Correct",
          "Incorrect",
          "Unsure",
          "Other"
         ],
         "xaxis": "x",
         "y": [
          "Pro Base",
          "Anti Base",
          "Pro Arrog-Respo",
          "Anti Arrog-Respo",
          "Pro Brill-Busy",
          "Anti Brill-Busy",
          "Pro Dry-Bubbl",
          "Anti Dry-Bubbl",
          "Pro Funny-Stric",
          "Anti Funny-Stric",
          "Pro Hard-Soft",
          "Anti Hard-Soft",
          "Pro Intel-Sweet",
          "Anti Intel-Sweet",
          "Pro Knowl-Helpf",
          "Anti Knowl-Helpf"
         ],
         "yaxis": "y",
         "z": [
          [
           0.87,
           0.08,
           0.03,
           0.02
          ],
          [
           0.58,
           0.34,
           0.05,
           0.02
          ],
          [
           0.84,
           0.06,
           0.06,
           0.04
          ],
          [
           0.42,
           0.44,
           0.09,
           0.05
          ],
          [
           0.81,
           0.09,
           0.06,
           0.05
          ],
          [
           0.52,
           0.34,
           0.09,
           0.05
          ],
          [
           0.8,
           0.05,
           0.07,
           0.08
          ],
          [
           0.37,
           0.44,
           0.12,
           0.07
          ],
          [
           0.83,
           0.07,
           0.05,
           0.05
          ],
          [
           0.45,
           0.4,
           0.09,
           0.06
          ],
          [
           0.75,
           0.06,
           0.09,
           0.09
          ],
          [
           0.42,
           0.36,
           0.13,
           0.09
          ],
          [
           0.81,
           0.06,
           0.07,
           0.06
          ],
          [
           0.41,
           0.43,
           0.09,
           0.07
          ],
          [
           0.83,
           0.08,
           0.05,
           0.04
          ],
          [
           0.53,
           0.34,
           0.08,
           0.05
          ]
         ]
        },
        {
         "colorscale": [
          [
           0,
           "rgb(254, 245, 244)"
          ],
          [
           0.09090909090909091,
           "rgb(222, 224, 210)"
          ],
          [
           0.18181818181818182,
           "rgb(189, 206, 181)"
          ],
          [
           0.2727272727272727,
           "rgb(153, 189, 156)"
          ],
          [
           0.36363636363636365,
           "rgb(110, 173, 138)"
          ],
          [
           0.45454545454545453,
           "rgb(65, 157, 129)"
          ],
          [
           0.5454545454545454,
           "rgb(25, 137, 125)"
          ],
          [
           0.6363636363636364,
           "rgb(18, 116, 117)"
          ],
          [
           0.7272727272727273,
           "rgb(25, 94, 106)"
          ],
          [
           0.8181818181818182,
           "rgb(28, 72, 93)"
          ],
          [
           0.9090909090909091,
           "rgb(25, 51, 80)"
          ],
          [
           1,
           "rgb(20, 29, 67)"
          ]
         ],
         "text": [
          [
           0.87,
           0.08,
           0.03,
           0.02
          ],
          [
           0.58,
           0.34,
           0.05,
           0.02
          ],
          [
           0.84,
           0.06,
           0.06,
           0.04
          ],
          [
           0.42,
           0.44,
           0.09,
           0.05
          ],
          [
           0.81,
           0.09,
           0.06,
           0.05
          ],
          [
           0.52,
           0.34,
           0.09,
           0.05
          ],
          [
           0.8,
           0.05,
           0.07,
           0.08
          ],
          [
           0.37,
           0.44,
           0.12,
           0.07
          ],
          [
           0.83,
           0.07,
           0.05,
           0.05
          ],
          [
           0.45,
           0.4,
           0.09,
           0.06
          ],
          [
           0.75,
           0.06,
           0.09,
           0.09
          ],
          [
           0.42,
           0.36,
           0.13,
           0.09
          ],
          [
           0.81,
           0.06,
           0.07,
           0.06
          ],
          [
           0.41,
           0.43,
           0.09,
           0.07
          ],
          [
           0.83,
           0.08,
           0.05,
           0.04
          ],
          [
           0.53,
           0.34,
           0.08,
           0.05
          ]
         ],
         "texttemplate": "%{text}",
         "type": "heatmap",
         "x": [
          "Correct",
          "Incorrect",
          "Unsure",
          "Other"
         ],
         "xaxis": "x2",
         "y": [
          "Pro Large-Littl",
          "Anti Large-Littl",
          "Pro Nothi-Blond",
          "Anti Nothi-Blond",
          "Pro Nothi-Mean",
          "Anti Nothi-Mean",
          "Pro Old-Nothi",
          "Anti Old-Nothi",
          "Pro Organ-Disor",
          "Anti Organ-Disor",
          "Pro Polit-Nothi",
          "Anti Polit-Nothi",
          "Pro Pract-Pleas",
          "Anti Pract-Pleas",
          "Pro Tough-Under",
          "Anti Tough-Under"
         ],
         "yaxis": "y2",
         "z": [
          [
           0.87,
           0.06,
           0.04,
           0.03
          ],
          [
           0.45,
           0.45,
           0.06,
           0.03
          ],
          [
           0.84,
           0.05,
           0.03,
           0.07
          ],
          [
           0.45,
           0.39,
           0.06,
           0.1
          ],
          [
           0.85,
           0.1,
           0.03,
           0.02
          ],
          [
           0.6,
           0.33,
           0.05,
           0.03
          ],
          [
           0.81,
           0.09,
           0.05,
           0.05
          ],
          [
           0.51,
           0.37,
           0.06,
           0.05
          ],
          [
           0.82,
           0.11,
           0.03,
           0.03
          ],
          [
           0.58,
           0.35,
           0.03,
           0.04
          ],
          [
           0.75,
           0.12,
           0.04,
           0.08
          ],
          [
           0.53,
           0.34,
           0.05,
           0.07
          ],
          [
           0.8,
           0.07,
           0.08,
           0.05
          ],
          [
           0.52,
           0.31,
           0.11,
           0.06
          ],
          [
           0.83,
           0.07,
           0.05,
           0.05
          ],
          [
           0.48,
           0.39,
           0.08,
           0.06
          ]
         ]
        }
       ],
       "layout": {
        "autosize": false,
        "font": {
         "size": 14.5
        },
        "height": 625,
        "margin": {
         "b": 15,
         "l": 15,
         "pad": 10,
         "r": 15,
         "t": 15
        },
        "plot_bgcolor": "white",
        "template": {
         "data": {
          "bar": [
           {
            "error_x": {
             "color": "#2a3f5f"
            },
            "error_y": {
             "color": "#2a3f5f"
            },
            "marker": {
             "line": {
              "color": "#E5ECF6",
              "width": 0.5
             },
             "pattern": {
              "fillmode": "overlay",
              "size": 10,
              "solidity": 0.2
             }
            },
            "type": "bar"
           }
          ],
          "barpolar": [
           {
            "marker": {
             "line": {
              "color": "#E5ECF6",
              "width": 0.5
             },
             "pattern": {
              "fillmode": "overlay",
              "size": 10,
              "solidity": 0.2
             }
            },
            "type": "barpolar"
           }
          ],
          "carpet": [
           {
            "aaxis": {
             "endlinecolor": "#2a3f5f",
             "gridcolor": "white",
             "linecolor": "white",
             "minorgridcolor": "white",
             "startlinecolor": "#2a3f5f"
            },
            "baxis": {
             "endlinecolor": "#2a3f5f",
             "gridcolor": "white",
             "linecolor": "white",
             "minorgridcolor": "white",
             "startlinecolor": "#2a3f5f"
            },
            "type": "carpet"
           }
          ],
          "choropleth": [
           {
            "colorbar": {
             "outlinewidth": 0,
             "ticks": ""
            },
            "type": "choropleth"
           }
          ],
          "contour": [
           {
            "colorbar": {
             "outlinewidth": 0,
             "ticks": ""
            },
            "colorscale": [
             [
              0,
              "#0d0887"
             ],
             [
              0.1111111111111111,
              "#46039f"
             ],
             [
              0.2222222222222222,
              "#7201a8"
             ],
             [
              0.3333333333333333,
              "#9c179e"
             ],
             [
              0.4444444444444444,
              "#bd3786"
             ],
             [
              0.5555555555555556,
              "#d8576b"
             ],
             [
              0.6666666666666666,
              "#ed7953"
             ],
             [
              0.7777777777777778,
              "#fb9f3a"
             ],
             [
              0.8888888888888888,
              "#fdca26"
             ],
             [
              1,
              "#f0f921"
             ]
            ],
            "type": "contour"
           }
          ],
          "contourcarpet": [
           {
            "colorbar": {
             "outlinewidth": 0,
             "ticks": ""
            },
            "type": "contourcarpet"
           }
          ],
          "heatmap": [
           {
            "colorbar": {
             "outlinewidth": 0,
             "ticks": ""
            },
            "colorscale": [
             [
              0,
              "#0d0887"
             ],
             [
              0.1111111111111111,
              "#46039f"
             ],
             [
              0.2222222222222222,
              "#7201a8"
             ],
             [
              0.3333333333333333,
              "#9c179e"
             ],
             [
              0.4444444444444444,
              "#bd3786"
             ],
             [
              0.5555555555555556,
              "#d8576b"
             ],
             [
              0.6666666666666666,
              "#ed7953"
             ],
             [
              0.7777777777777778,
              "#fb9f3a"
             ],
             [
              0.8888888888888888,
              "#fdca26"
             ],
             [
              1,
              "#f0f921"
             ]
            ],
            "type": "heatmap"
           }
          ],
          "heatmapgl": [
           {
            "colorbar": {
             "outlinewidth": 0,
             "ticks": ""
            },
            "colorscale": [
             [
              0,
              "#0d0887"
             ],
             [
              0.1111111111111111,
              "#46039f"
             ],
             [
              0.2222222222222222,
              "#7201a8"
             ],
             [
              0.3333333333333333,
              "#9c179e"
             ],
             [
              0.4444444444444444,
              "#bd3786"
             ],
             [
              0.5555555555555556,
              "#d8576b"
             ],
             [
              0.6666666666666666,
              "#ed7953"
             ],
             [
              0.7777777777777778,
              "#fb9f3a"
             ],
             [
              0.8888888888888888,
              "#fdca26"
             ],
             [
              1,
              "#f0f921"
             ]
            ],
            "type": "heatmapgl"
           }
          ],
          "histogram": [
           {
            "marker": {
             "pattern": {
              "fillmode": "overlay",
              "size": 10,
              "solidity": 0.2
             }
            },
            "type": "histogram"
           }
          ],
          "histogram2d": [
           {
            "colorbar": {
             "outlinewidth": 0,
             "ticks": ""
            },
            "colorscale": [
             [
              0,
              "#0d0887"
             ],
             [
              0.1111111111111111,
              "#46039f"
             ],
             [
              0.2222222222222222,
              "#7201a8"
             ],
             [
              0.3333333333333333,
              "#9c179e"
             ],
             [
              0.4444444444444444,
              "#bd3786"
             ],
             [
              0.5555555555555556,
              "#d8576b"
             ],
             [
              0.6666666666666666,
              "#ed7953"
             ],
             [
              0.7777777777777778,
              "#fb9f3a"
             ],
             [
              0.8888888888888888,
              "#fdca26"
             ],
             [
              1,
              "#f0f921"
             ]
            ],
            "type": "histogram2d"
           }
          ],
          "histogram2dcontour": [
           {
            "colorbar": {
             "outlinewidth": 0,
             "ticks": ""
            },
            "colorscale": [
             [
              0,
              "#0d0887"
             ],
             [
              0.1111111111111111,
              "#46039f"
             ],
             [
              0.2222222222222222,
              "#7201a8"
             ],
             [
              0.3333333333333333,
              "#9c179e"
             ],
             [
              0.4444444444444444,
              "#bd3786"
             ],
             [
              0.5555555555555556,
              "#d8576b"
             ],
             [
              0.6666666666666666,
              "#ed7953"
             ],
             [
              0.7777777777777778,
              "#fb9f3a"
             ],
             [
              0.8888888888888888,
              "#fdca26"
             ],
             [
              1,
              "#f0f921"
             ]
            ],
            "type": "histogram2dcontour"
           }
          ],
          "mesh3d": [
           {
            "colorbar": {
             "outlinewidth": 0,
             "ticks": ""
            },
            "type": "mesh3d"
           }
          ],
          "parcoords": [
           {
            "line": {
             "colorbar": {
              "outlinewidth": 0,
              "ticks": ""
             }
            },
            "type": "parcoords"
           }
          ],
          "pie": [
           {
            "automargin": true,
            "type": "pie"
           }
          ],
          "scatter": [
           {
            "fillpattern": {
             "fillmode": "overlay",
             "size": 10,
             "solidity": 0.2
            },
            "type": "scatter"
           }
          ],
          "scatter3d": [
           {
            "line": {
             "colorbar": {
              "outlinewidth": 0,
              "ticks": ""
             }
            },
            "marker": {
             "colorbar": {
              "outlinewidth": 0,
              "ticks": ""
             }
            },
            "type": "scatter3d"
           }
          ],
          "scattercarpet": [
           {
            "marker": {
             "colorbar": {
              "outlinewidth": 0,
              "ticks": ""
             }
            },
            "type": "scattercarpet"
           }
          ],
          "scattergeo": [
           {
            "marker": {
             "colorbar": {
              "outlinewidth": 0,
              "ticks": ""
             }
            },
            "type": "scattergeo"
           }
          ],
          "scattergl": [
           {
            "marker": {
             "colorbar": {
              "outlinewidth": 0,
              "ticks": ""
             }
            },
            "type": "scattergl"
           }
          ],
          "scattermapbox": [
           {
            "marker": {
             "colorbar": {
              "outlinewidth": 0,
              "ticks": ""
             }
            },
            "type": "scattermapbox"
           }
          ],
          "scatterpolar": [
           {
            "marker": {
             "colorbar": {
              "outlinewidth": 0,
              "ticks": ""
             }
            },
            "type": "scatterpolar"
           }
          ],
          "scatterpolargl": [
           {
            "marker": {
             "colorbar": {
              "outlinewidth": 0,
              "ticks": ""
             }
            },
            "type": "scatterpolargl"
           }
          ],
          "scatterternary": [
           {
            "marker": {
             "colorbar": {
              "outlinewidth": 0,
              "ticks": ""
             }
            },
            "type": "scatterternary"
           }
          ],
          "surface": [
           {
            "colorbar": {
             "outlinewidth": 0,
             "ticks": ""
            },
            "colorscale": [
             [
              0,
              "#0d0887"
             ],
             [
              0.1111111111111111,
              "#46039f"
             ],
             [
              0.2222222222222222,
              "#7201a8"
             ],
             [
              0.3333333333333333,
              "#9c179e"
             ],
             [
              0.4444444444444444,
              "#bd3786"
             ],
             [
              0.5555555555555556,
              "#d8576b"
             ],
             [
              0.6666666666666666,
              "#ed7953"
             ],
             [
              0.7777777777777778,
              "#fb9f3a"
             ],
             [
              0.8888888888888888,
              "#fdca26"
             ],
             [
              1,
              "#f0f921"
             ]
            ],
            "type": "surface"
           }
          ],
          "table": [
           {
            "cells": {
             "fill": {
              "color": "#EBF0F8"
             },
             "line": {
              "color": "white"
             }
            },
            "header": {
             "fill": {
              "color": "#C8D4E3"
             },
             "line": {
              "color": "white"
             }
            },
            "type": "table"
           }
          ]
         },
         "layout": {
          "annotationdefaults": {
           "arrowcolor": "#2a3f5f",
           "arrowhead": 0,
           "arrowwidth": 1
          },
          "autotypenumbers": "strict",
          "coloraxis": {
           "colorbar": {
            "outlinewidth": 0,
            "ticks": ""
           }
          },
          "colorscale": {
           "diverging": [
            [
             0,
             "#8e0152"
            ],
            [
             0.1,
             "#c51b7d"
            ],
            [
             0.2,
             "#de77ae"
            ],
            [
             0.3,
             "#f1b6da"
            ],
            [
             0.4,
             "#fde0ef"
            ],
            [
             0.5,
             "#f7f7f7"
            ],
            [
             0.6,
             "#e6f5d0"
            ],
            [
             0.7,
             "#b8e186"
            ],
            [
             0.8,
             "#7fbc41"
            ],
            [
             0.9,
             "#4d9221"
            ],
            [
             1,
             "#276419"
            ]
           ],
           "sequential": [
            [
             0,
             "#0d0887"
            ],
            [
             0.1111111111111111,
             "#46039f"
            ],
            [
             0.2222222222222222,
             "#7201a8"
            ],
            [
             0.3333333333333333,
             "#9c179e"
            ],
            [
             0.4444444444444444,
             "#bd3786"
            ],
            [
             0.5555555555555556,
             "#d8576b"
            ],
            [
             0.6666666666666666,
             "#ed7953"
            ],
            [
             0.7777777777777778,
             "#fb9f3a"
            ],
            [
             0.8888888888888888,
             "#fdca26"
            ],
            [
             1,
             "#f0f921"
            ]
           ],
           "sequentialminus": [
            [
             0,
             "#0d0887"
            ],
            [
             0.1111111111111111,
             "#46039f"
            ],
            [
             0.2222222222222222,
             "#7201a8"
            ],
            [
             0.3333333333333333,
             "#9c179e"
            ],
            [
             0.4444444444444444,
             "#bd3786"
            ],
            [
             0.5555555555555556,
             "#d8576b"
            ],
            [
             0.6666666666666666,
             "#ed7953"
            ],
            [
             0.7777777777777778,
             "#fb9f3a"
            ],
            [
             0.8888888888888888,
             "#fdca26"
            ],
            [
             1,
             "#f0f921"
            ]
           ]
          },
          "colorway": [
           "#636efa",
           "#EF553B",
           "#00cc96",
           "#ab63fa",
           "#FFA15A",
           "#19d3f3",
           "#FF6692",
           "#B6E880",
           "#FF97FF",
           "#FECB52"
          ],
          "font": {
           "color": "#2a3f5f"
          },
          "geo": {
           "bgcolor": "white",
           "lakecolor": "white",
           "landcolor": "#E5ECF6",
           "showlakes": true,
           "showland": true,
           "subunitcolor": "white"
          },
          "hoverlabel": {
           "align": "left"
          },
          "hovermode": "closest",
          "mapbox": {
           "style": "light"
          },
          "paper_bgcolor": "white",
          "plot_bgcolor": "#E5ECF6",
          "polar": {
           "angularaxis": {
            "gridcolor": "white",
            "linecolor": "white",
            "ticks": ""
           },
           "bgcolor": "#E5ECF6",
           "radialaxis": {
            "gridcolor": "white",
            "linecolor": "white",
            "ticks": ""
           }
          },
          "scene": {
           "xaxis": {
            "backgroundcolor": "#E5ECF6",
            "gridcolor": "white",
            "gridwidth": 2,
            "linecolor": "white",
            "showbackground": true,
            "ticks": "",
            "zerolinecolor": "white"
           },
           "yaxis": {
            "backgroundcolor": "#E5ECF6",
            "gridcolor": "white",
            "gridwidth": 2,
            "linecolor": "white",
            "showbackground": true,
            "ticks": "",
            "zerolinecolor": "white"
           },
           "zaxis": {
            "backgroundcolor": "#E5ECF6",
            "gridcolor": "white",
            "gridwidth": 2,
            "linecolor": "white",
            "showbackground": true,
            "ticks": "",
            "zerolinecolor": "white"
           }
          },
          "shapedefaults": {
           "line": {
            "color": "#2a3f5f"
           }
          },
          "ternary": {
           "aaxis": {
            "gridcolor": "white",
            "linecolor": "white",
            "ticks": ""
           },
           "baxis": {
            "gridcolor": "white",
            "linecolor": "white",
            "ticks": ""
           },
           "bgcolor": "#E5ECF6",
           "caxis": {
            "gridcolor": "white",
            "linecolor": "white",
            "ticks": ""
           }
          },
          "title": {
           "x": 0.05
          },
          "xaxis": {
           "automargin": true,
           "gridcolor": "white",
           "linecolor": "white",
           "ticks": "",
           "title": {
            "standoff": 15
           },
           "zerolinecolor": "white",
           "zerolinewidth": 2
          },
          "yaxis": {
           "automargin": true,
           "gridcolor": "white",
           "linecolor": "white",
           "ticks": "",
           "title": {
            "standoff": 15
           },
           "zerolinecolor": "white",
           "zerolinewidth": 2
          }
         }
        },
        "width": 825,
        "xaxis": {
         "anchor": "y",
         "domain": [
          0,
          0.375
         ]
        },
        "xaxis2": {
         "anchor": "y2",
         "domain": [
          0.625,
          1
         ]
        },
        "yaxis": {
         "anchor": "x",
         "domain": [
          0,
          1
         ],
         "title": {
          "text": "Prompt Type"
         }
        },
        "yaxis2": {
         "anchor": "x2",
         "domain": [
          0,
          1
         ]
        }
       }
      }
     },
     "metadata": {},
     "output_type": "display_data"
    }
   ],
   "source": [
    "temp1 = df.head(16).round(2)\n",
    "temp2 = df.tail(16).round(2)\n",
    "fig = make_subplots(rows=1, cols=2 ,print_grid=True, horizontal_spacing=0.25)\n",
    "fig.add_trace(\n",
    "    go.Heatmap(\n",
    "        z=temp1[[\"correct_count\", \"incorrect_count\", \"unsure_count\", \"other_count\"]].to_numpy(), \n",
    "        x=[\"Correct\", \"Incorrect\", \"Unsure\", \"Other\"],\n",
    "        y=temp1.prompt_type.tolist(),\n",
    "        text=temp1[[\"correct_count\", \"incorrect_count\", \"unsure_count\", \"other_count\"]].values,\n",
    "        texttemplate=\"%{text}\", hovertemplate=None,\n",
    "        colorscale=\"tempo\"),\n",
    "    1,1\n",
    "    )\n",
    "fig.add_trace(\n",
    "    go.Heatmap(\n",
    "        z=temp2[[\"correct_count\", \"incorrect_count\", \"unsure_count\", \"other_count\"]].to_numpy(), \n",
    "        x=[\"Correct\", \"Incorrect\", \"Unsure\", \"Other\"],\n",
    "        y=temp2.prompt_type.tolist(),\n",
    "        text=temp1[[\"correct_count\", \"incorrect_count\", \"unsure_count\", \"other_count\"]].values,\n",
    "        texttemplate=\"%{text}\", hovertemplate=None,\n",
    "        colorscale=\"tempo\"),\n",
    "    1,2\n",
    "    )\n",
    "fig.update_layout(\n",
    "    autosize=False,\n",
    "    width=825,\n",
    "    height=625,\n",
    "    plot_bgcolor='white',\n",
    "    font=dict(size=14.5),\n",
    "    margin=dict(l=15, r=15, t=15, b=15, pad=10),\n",
    "    yaxis={\"title\": \"Prompt Type\"},\n",
    ")\n",
    "fig.show()"
   ]
  },
  {
   "cell_type": "code",
   "execution_count": 83,
   "metadata": {},
   "outputs": [],
   "source": [
    "fig.write_image(\"heatmap.png\")"
   ]
  },
  {
   "cell_type": "code",
   "execution_count": null,
   "metadata": {},
   "outputs": [],
   "source": []
  }
 ],
 "metadata": {
  "kernelspec": {
   "display_name": "base",
   "language": "python",
   "name": "python3"
  },
  "language_info": {
   "codemirror_mode": {
    "name": "ipython",
    "version": 3
   },
   "file_extension": ".py",
   "mimetype": "text/x-python",
   "name": "python",
   "nbconvert_exporter": "python",
   "pygments_lexer": "ipython3",
   "version": "3.8.5"
  },
  "orig_nbformat": 4
 },
 "nbformat": 4,
 "nbformat_minor": 2
}
